{
 "cells": [
  {
   "cell_type": "markdown",
   "id": "e096afd3-31ba-4492-a816-ed1c5bc0ebf0",
   "metadata": {},
   "source": [
    "# Load Data, Describe and See Insights"
   ]
  },
  {
   "cell_type": "code",
   "execution_count": 1,
   "id": "15fe560d-baa4-4f5a-ba4f-47984bd16a48",
   "metadata": {},
   "outputs": [
    {
     "data": {
      "text/html": [
       "<div>\n",
       "<style scoped>\n",
       "    .dataframe tbody tr th:only-of-type {\n",
       "        vertical-align: middle;\n",
       "    }\n",
       "\n",
       "    .dataframe tbody tr th {\n",
       "        vertical-align: top;\n",
       "    }\n",
       "\n",
       "    .dataframe thead th {\n",
       "        text-align: right;\n",
       "    }\n",
       "</style>\n",
       "<table border=\"1\" class=\"dataframe\">\n",
       "  <thead>\n",
       "    <tr style=\"text-align: right;\">\n",
       "      <th></th>\n",
       "      <th>step</th>\n",
       "      <th>type</th>\n",
       "      <th>amount</th>\n",
       "      <th>nameOrig</th>\n",
       "      <th>oldbalanceOrg</th>\n",
       "      <th>newbalanceOrig</th>\n",
       "      <th>nameDest</th>\n",
       "      <th>oldbalanceDest</th>\n",
       "      <th>newbalanceDest</th>\n",
       "      <th>isFraud</th>\n",
       "      <th>isFlaggedFraud</th>\n",
       "    </tr>\n",
       "  </thead>\n",
       "  <tbody>\n",
       "    <tr>\n",
       "      <th>0</th>\n",
       "      <td>1</td>\n",
       "      <td>PAYMENT</td>\n",
       "      <td>9839.64</td>\n",
       "      <td>C1231006815</td>\n",
       "      <td>170136.0</td>\n",
       "      <td>160296.36</td>\n",
       "      <td>M1979787155</td>\n",
       "      <td>0.0</td>\n",
       "      <td>0.0</td>\n",
       "      <td>0</td>\n",
       "      <td>0</td>\n",
       "    </tr>\n",
       "    <tr>\n",
       "      <th>1</th>\n",
       "      <td>1</td>\n",
       "      <td>PAYMENT</td>\n",
       "      <td>1864.28</td>\n",
       "      <td>C1666544295</td>\n",
       "      <td>21249.0</td>\n",
       "      <td>19384.72</td>\n",
       "      <td>M2044282225</td>\n",
       "      <td>0.0</td>\n",
       "      <td>0.0</td>\n",
       "      <td>0</td>\n",
       "      <td>0</td>\n",
       "    </tr>\n",
       "    <tr>\n",
       "      <th>2</th>\n",
       "      <td>1</td>\n",
       "      <td>TRANSFER</td>\n",
       "      <td>181.00</td>\n",
       "      <td>C1305486145</td>\n",
       "      <td>181.0</td>\n",
       "      <td>0.00</td>\n",
       "      <td>C553264065</td>\n",
       "      <td>0.0</td>\n",
       "      <td>0.0</td>\n",
       "      <td>1</td>\n",
       "      <td>0</td>\n",
       "    </tr>\n",
       "    <tr>\n",
       "      <th>3</th>\n",
       "      <td>1</td>\n",
       "      <td>CASH_OUT</td>\n",
       "      <td>181.00</td>\n",
       "      <td>C840083671</td>\n",
       "      <td>181.0</td>\n",
       "      <td>0.00</td>\n",
       "      <td>C38997010</td>\n",
       "      <td>21182.0</td>\n",
       "      <td>0.0</td>\n",
       "      <td>1</td>\n",
       "      <td>0</td>\n",
       "    </tr>\n",
       "    <tr>\n",
       "      <th>4</th>\n",
       "      <td>1</td>\n",
       "      <td>PAYMENT</td>\n",
       "      <td>11668.14</td>\n",
       "      <td>C2048537720</td>\n",
       "      <td>41554.0</td>\n",
       "      <td>29885.86</td>\n",
       "      <td>M1230701703</td>\n",
       "      <td>0.0</td>\n",
       "      <td>0.0</td>\n",
       "      <td>0</td>\n",
       "      <td>0</td>\n",
       "    </tr>\n",
       "  </tbody>\n",
       "</table>\n",
       "</div>"
      ],
      "text/plain": [
       "   step      type    amount     nameOrig  oldbalanceOrg  newbalanceOrig  \\\n",
       "0     1   PAYMENT   9839.64  C1231006815       170136.0       160296.36   \n",
       "1     1   PAYMENT   1864.28  C1666544295        21249.0        19384.72   \n",
       "2     1  TRANSFER    181.00  C1305486145          181.0            0.00   \n",
       "3     1  CASH_OUT    181.00   C840083671          181.0            0.00   \n",
       "4     1   PAYMENT  11668.14  C2048537720        41554.0        29885.86   \n",
       "\n",
       "      nameDest  oldbalanceDest  newbalanceDest  isFraud  isFlaggedFraud  \n",
       "0  M1979787155             0.0             0.0        0               0  \n",
       "1  M2044282225             0.0             0.0        0               0  \n",
       "2   C553264065             0.0             0.0        1               0  \n",
       "3    C38997010         21182.0             0.0        1               0  \n",
       "4  M1230701703             0.0             0.0        0               0  "
      ]
     },
     "execution_count": 1,
     "metadata": {},
     "output_type": "execute_result"
    }
   ],
   "source": [
    "import pandas as pd\n",
    "\n",
    "# Load data\n",
    "data = pd.read_csv('Fraud.csv')\n",
    "\n",
    "# Display the first few rows\n",
    "data.head()"
   ]
  },
  {
   "cell_type": "code",
   "execution_count": 2,
   "id": "6eefe533-7e91-416a-8205-e1a4ebefc3ef",
   "metadata": {},
   "outputs": [
    {
     "data": {
      "text/html": [
       "<div>\n",
       "<style scoped>\n",
       "    .dataframe tbody tr th:only-of-type {\n",
       "        vertical-align: middle;\n",
       "    }\n",
       "\n",
       "    .dataframe tbody tr th {\n",
       "        vertical-align: top;\n",
       "    }\n",
       "\n",
       "    .dataframe thead th {\n",
       "        text-align: right;\n",
       "    }\n",
       "</style>\n",
       "<table border=\"1\" class=\"dataframe\">\n",
       "  <thead>\n",
       "    <tr style=\"text-align: right;\">\n",
       "      <th></th>\n",
       "      <th>step</th>\n",
       "      <th>type</th>\n",
       "      <th>amount</th>\n",
       "      <th>nameOrig</th>\n",
       "      <th>oldbalanceOrg</th>\n",
       "      <th>newbalanceOrig</th>\n",
       "      <th>nameDest</th>\n",
       "      <th>oldbalanceDest</th>\n",
       "      <th>newbalanceDest</th>\n",
       "      <th>isFraud</th>\n",
       "      <th>isFlaggedFraud</th>\n",
       "    </tr>\n",
       "  </thead>\n",
       "  <tbody>\n",
       "    <tr>\n",
       "      <th>count</th>\n",
       "      <td>1.048575e+06</td>\n",
       "      <td>1048575</td>\n",
       "      <td>1.048575e+06</td>\n",
       "      <td>1048575</td>\n",
       "      <td>1.048575e+06</td>\n",
       "      <td>1.048575e+06</td>\n",
       "      <td>1048575</td>\n",
       "      <td>1.048575e+06</td>\n",
       "      <td>1.048575e+06</td>\n",
       "      <td>1.048575e+06</td>\n",
       "      <td>1048575.0</td>\n",
       "    </tr>\n",
       "    <tr>\n",
       "      <th>unique</th>\n",
       "      <td>NaN</td>\n",
       "      <td>5</td>\n",
       "      <td>NaN</td>\n",
       "      <td>1048317</td>\n",
       "      <td>NaN</td>\n",
       "      <td>NaN</td>\n",
       "      <td>449635</td>\n",
       "      <td>NaN</td>\n",
       "      <td>NaN</td>\n",
       "      <td>NaN</td>\n",
       "      <td>NaN</td>\n",
       "    </tr>\n",
       "    <tr>\n",
       "      <th>top</th>\n",
       "      <td>NaN</td>\n",
       "      <td>CASH_OUT</td>\n",
       "      <td>NaN</td>\n",
       "      <td>C1214450722</td>\n",
       "      <td>NaN</td>\n",
       "      <td>NaN</td>\n",
       "      <td>C985934102</td>\n",
       "      <td>NaN</td>\n",
       "      <td>NaN</td>\n",
       "      <td>NaN</td>\n",
       "      <td>NaN</td>\n",
       "    </tr>\n",
       "    <tr>\n",
       "      <th>freq</th>\n",
       "      <td>NaN</td>\n",
       "      <td>373641</td>\n",
       "      <td>NaN</td>\n",
       "      <td>2</td>\n",
       "      <td>NaN</td>\n",
       "      <td>NaN</td>\n",
       "      <td>98</td>\n",
       "      <td>NaN</td>\n",
       "      <td>NaN</td>\n",
       "      <td>NaN</td>\n",
       "      <td>NaN</td>\n",
       "    </tr>\n",
       "    <tr>\n",
       "      <th>mean</th>\n",
       "      <td>2.696617e+01</td>\n",
       "      <td>NaN</td>\n",
       "      <td>1.586670e+05</td>\n",
       "      <td>NaN</td>\n",
       "      <td>8.740095e+05</td>\n",
       "      <td>8.938089e+05</td>\n",
       "      <td>NaN</td>\n",
       "      <td>9.781600e+05</td>\n",
       "      <td>1.114198e+06</td>\n",
       "      <td>1.089097e-03</td>\n",
       "      <td>0.0</td>\n",
       "    </tr>\n",
       "    <tr>\n",
       "      <th>std</th>\n",
       "      <td>1.562325e+01</td>\n",
       "      <td>NaN</td>\n",
       "      <td>2.649409e+05</td>\n",
       "      <td>NaN</td>\n",
       "      <td>2.971751e+06</td>\n",
       "      <td>3.008271e+06</td>\n",
       "      <td>NaN</td>\n",
       "      <td>2.296780e+06</td>\n",
       "      <td>2.416593e+06</td>\n",
       "      <td>3.298351e-02</td>\n",
       "      <td>0.0</td>\n",
       "    </tr>\n",
       "    <tr>\n",
       "      <th>min</th>\n",
       "      <td>1.000000e+00</td>\n",
       "      <td>NaN</td>\n",
       "      <td>1.000000e-01</td>\n",
       "      <td>NaN</td>\n",
       "      <td>0.000000e+00</td>\n",
       "      <td>0.000000e+00</td>\n",
       "      <td>NaN</td>\n",
       "      <td>0.000000e+00</td>\n",
       "      <td>0.000000e+00</td>\n",
       "      <td>0.000000e+00</td>\n",
       "      <td>0.0</td>\n",
       "    </tr>\n",
       "    <tr>\n",
       "      <th>25%</th>\n",
       "      <td>1.500000e+01</td>\n",
       "      <td>NaN</td>\n",
       "      <td>1.214907e+04</td>\n",
       "      <td>NaN</td>\n",
       "      <td>0.000000e+00</td>\n",
       "      <td>0.000000e+00</td>\n",
       "      <td>NaN</td>\n",
       "      <td>0.000000e+00</td>\n",
       "      <td>0.000000e+00</td>\n",
       "      <td>0.000000e+00</td>\n",
       "      <td>0.0</td>\n",
       "    </tr>\n",
       "    <tr>\n",
       "      <th>50%</th>\n",
       "      <td>2.000000e+01</td>\n",
       "      <td>NaN</td>\n",
       "      <td>7.634333e+04</td>\n",
       "      <td>NaN</td>\n",
       "      <td>1.600200e+04</td>\n",
       "      <td>0.000000e+00</td>\n",
       "      <td>NaN</td>\n",
       "      <td>1.263772e+05</td>\n",
       "      <td>2.182604e+05</td>\n",
       "      <td>0.000000e+00</td>\n",
       "      <td>0.0</td>\n",
       "    </tr>\n",
       "    <tr>\n",
       "      <th>75%</th>\n",
       "      <td>3.900000e+01</td>\n",
       "      <td>NaN</td>\n",
       "      <td>2.137619e+05</td>\n",
       "      <td>NaN</td>\n",
       "      <td>1.366420e+05</td>\n",
       "      <td>1.746000e+05</td>\n",
       "      <td>NaN</td>\n",
       "      <td>9.159235e+05</td>\n",
       "      <td>1.149808e+06</td>\n",
       "      <td>0.000000e+00</td>\n",
       "      <td>0.0</td>\n",
       "    </tr>\n",
       "    <tr>\n",
       "      <th>max</th>\n",
       "      <td>9.500000e+01</td>\n",
       "      <td>NaN</td>\n",
       "      <td>1.000000e+07</td>\n",
       "      <td>NaN</td>\n",
       "      <td>3.890000e+07</td>\n",
       "      <td>3.890000e+07</td>\n",
       "      <td>NaN</td>\n",
       "      <td>4.210000e+07</td>\n",
       "      <td>4.220000e+07</td>\n",
       "      <td>1.000000e+00</td>\n",
       "      <td>0.0</td>\n",
       "    </tr>\n",
       "  </tbody>\n",
       "</table>\n",
       "</div>"
      ],
      "text/plain": [
       "                step      type        amount     nameOrig  oldbalanceOrg  \\\n",
       "count   1.048575e+06   1048575  1.048575e+06      1048575   1.048575e+06   \n",
       "unique           NaN         5           NaN      1048317            NaN   \n",
       "top              NaN  CASH_OUT           NaN  C1214450722            NaN   \n",
       "freq             NaN    373641           NaN            2            NaN   \n",
       "mean    2.696617e+01       NaN  1.586670e+05          NaN   8.740095e+05   \n",
       "std     1.562325e+01       NaN  2.649409e+05          NaN   2.971751e+06   \n",
       "min     1.000000e+00       NaN  1.000000e-01          NaN   0.000000e+00   \n",
       "25%     1.500000e+01       NaN  1.214907e+04          NaN   0.000000e+00   \n",
       "50%     2.000000e+01       NaN  7.634333e+04          NaN   1.600200e+04   \n",
       "75%     3.900000e+01       NaN  2.137619e+05          NaN   1.366420e+05   \n",
       "max     9.500000e+01       NaN  1.000000e+07          NaN   3.890000e+07   \n",
       "\n",
       "        newbalanceOrig    nameDest  oldbalanceDest  newbalanceDest  \\\n",
       "count     1.048575e+06     1048575    1.048575e+06    1.048575e+06   \n",
       "unique             NaN      449635             NaN             NaN   \n",
       "top                NaN  C985934102             NaN             NaN   \n",
       "freq               NaN          98             NaN             NaN   \n",
       "mean      8.938089e+05         NaN    9.781600e+05    1.114198e+06   \n",
       "std       3.008271e+06         NaN    2.296780e+06    2.416593e+06   \n",
       "min       0.000000e+00         NaN    0.000000e+00    0.000000e+00   \n",
       "25%       0.000000e+00         NaN    0.000000e+00    0.000000e+00   \n",
       "50%       0.000000e+00         NaN    1.263772e+05    2.182604e+05   \n",
       "75%       1.746000e+05         NaN    9.159235e+05    1.149808e+06   \n",
       "max       3.890000e+07         NaN    4.210000e+07    4.220000e+07   \n",
       "\n",
       "             isFraud  isFlaggedFraud  \n",
       "count   1.048575e+06       1048575.0  \n",
       "unique           NaN             NaN  \n",
       "top              NaN             NaN  \n",
       "freq             NaN             NaN  \n",
       "mean    1.089097e-03             0.0  \n",
       "std     3.298351e-02             0.0  \n",
       "min     0.000000e+00             0.0  \n",
       "25%     0.000000e+00             0.0  \n",
       "50%     0.000000e+00             0.0  \n",
       "75%     0.000000e+00             0.0  \n",
       "max     1.000000e+00             0.0  "
      ]
     },
     "execution_count": 2,
     "metadata": {},
     "output_type": "execute_result"
    }
   ],
   "source": [
    "# Describe the dataset\n",
    "data.describe(include='all')\n"
   ]
  },
  {
   "cell_type": "code",
   "execution_count": 3,
   "id": "810c4243-b9ec-4ac9-b186-423311c1ad29",
   "metadata": {},
   "outputs": [
    {
     "data": {
      "text/plain": [
       "(1048575, 11)"
      ]
     },
     "execution_count": 3,
     "metadata": {},
     "output_type": "execute_result"
    }
   ],
   "source": [
    "data.shape"
   ]
  },
  {
   "cell_type": "code",
   "execution_count": 4,
   "id": "2c259a2e-0c21-44e4-ad34-09bf1a80698f",
   "metadata": {},
   "outputs": [
    {
     "name": "stdout",
     "output_type": "stream",
     "text": [
      "Column: step\n",
      "Unique Values (95):\n",
      "[ 1  2  3  4  5  6  7  8  9 10 11 12 13 14 15 16 17 18 19 20 21 22 23 24\n",
      " 25 26 27 28 29 30 31 32 33 34 35 36 37 38 39 40 41 42 43 44 45 46 47 48\n",
      " 49 50 51 52 53 54 55 56 57 58 59 60 61 62 63 64 65 66 67 68 69 70 71 72\n",
      " 73 74 75 76 77 78 79 80 81 82 83 84 85 86 87 88 89 90 91 92 93 94 95]\n",
      "\n",
      "Column: type\n",
      "Unique Values (5):\n",
      "['PAYMENT' 'TRANSFER' 'CASH_OUT' 'DEBIT' 'CASH_IN']\n",
      "\n",
      "Column: amount\n",
      "Unique Values (1009606):\n",
      "[ 9839.64  1864.28   181.   ...  9917.36 14140.05 11450.03]\n",
      "\n",
      "Column: nameOrig\n",
      "Unique Values (1048317):\n",
      "['C1231006815' 'C1666544295' 'C1305486145' ... 'C2037964975' 'C1633237354'\n",
      " 'C1264356443']\n",
      "\n",
      "Column: oldbalanceOrg\n",
      "Unique Values (391033):\n",
      "[1.701360e+05 2.124900e+04 1.810000e+02 ... 4.798030e+05 9.054500e+04\n",
      " 8.058495e+04]\n",
      "\n",
      "Column: newbalanceOrig\n",
      "Unique Values (440792):\n",
      "[160296.36  19384.72      0.   ...   6404.95  80584.95  69134.92]\n",
      "\n",
      "Column: nameDest\n",
      "Unique Values (449635):\n",
      "['M1979787155' 'M2044282225' 'C553264065' ... 'M1355182933' 'M1964992463'\n",
      " 'M677577406']\n",
      "\n",
      "Column: oldbalanceDest\n",
      "Unique Values (590110):\n",
      "[      0.     21182.     41898.   ...  631284.08 1847488.28  484329.37]\n",
      "\n",
      "Column: newbalanceDest\n",
      "Unique Values (437054):\n",
      "[      0.     40348.79  157982.12 ...  763671.32 2127162.32  616886.72]\n",
      "\n",
      "Column: isFraud\n",
      "Unique Values (2):\n",
      "[0 1]\n",
      "\n",
      "Column: isFlaggedFraud\n",
      "Unique Values (1):\n",
      "[0]\n",
      "\n"
     ]
    }
   ],
   "source": [
    "# Display unique values for each column\n",
    "for col in data.columns:\n",
    "    unique_values = data[col].unique()\n",
    "    print(f\"Column: {col}\")\n",
    "    print(f\"Unique Values ({len(unique_values)}):\")\n",
    "    print(unique_values)\n",
    "    print()\n"
   ]
  },
  {
   "cell_type": "code",
   "execution_count": 5,
   "id": "764ee007-1417-4a74-8e2a-58d69a9d98b7",
   "metadata": {},
   "outputs": [],
   "source": [
    "data.drop(columns=['isFlaggedFraud'], inplace=True)"
   ]
  },
  {
   "cell_type": "markdown",
   "id": "a46d2a54-a7f2-42cf-b942-bf493681c3d2",
   "metadata": {},
   "source": [
    "# Check for Missing Values"
   ]
  },
  {
   "cell_type": "code",
   "execution_count": 6,
   "id": "24afd0af-f61a-4304-b12f-a29c74e8ea88",
   "metadata": {},
   "outputs": [
    {
     "data": {
      "text/plain": [
       "step              0\n",
       "type              0\n",
       "amount            0\n",
       "nameOrig          0\n",
       "oldbalanceOrg     0\n",
       "newbalanceOrig    0\n",
       "nameDest          0\n",
       "oldbalanceDest    0\n",
       "newbalanceDest    0\n",
       "isFraud           0\n",
       "dtype: int64"
      ]
     },
     "execution_count": 6,
     "metadata": {},
     "output_type": "execute_result"
    }
   ],
   "source": [
    "# Check for missing values\n",
    "data.isnull().sum()\n"
   ]
  },
  {
   "cell_type": "markdown",
   "id": "b0ac5cf2-43f4-43f1-b4a9-67962675ff34",
   "metadata": {},
   "source": [
    "# Display Data Types and Value Counts"
   ]
  },
  {
   "cell_type": "code",
   "execution_count": 7,
   "id": "d9d1966e-9837-40ca-94fc-af1ede698bea",
   "metadata": {},
   "outputs": [
    {
     "name": "stdout",
     "output_type": "stream",
     "text": [
      "step value counts:\n",
      "step\n",
      "19    51352\n",
      "18    49579\n",
      "43    45060\n",
      "15    44609\n",
      "17    43361\n",
      "16    42471\n",
      "14    41485\n",
      "42    41304\n",
      "20    40625\n",
      "36    39774\n",
      "Name: count, dtype: int64\n",
      "\n",
      "type value counts:\n",
      "type\n",
      "CASH_OUT    373641\n",
      "PAYMENT     353873\n",
      "CASH_IN     227130\n",
      "TRANSFER     86753\n",
      "DEBIT         7178\n",
      "Name: count, dtype: int64\n",
      "\n",
      "amount value counts:\n",
      "amount\n",
      "10000000.00    14\n",
      "706.25          6\n",
      "1711.67         5\n",
      "3172.71         5\n",
      "5838.16         5\n",
      "9217.19         5\n",
      "3279.19         5\n",
      "3216.80         5\n",
      "2432.10         5\n",
      "5909.55         5\n",
      "Name: count, dtype: int64\n",
      "\n",
      "nameOrig value counts:\n",
      "nameOrig\n",
      "C1214450722    2\n",
      "C309111136     2\n",
      "C1268675361    2\n",
      "C720460198     2\n",
      "C1109092856    2\n",
      "C545402485     2\n",
      "C1362689728    2\n",
      "C110179857     2\n",
      "C1467095135    2\n",
      "C2073023524    2\n",
      "Name: count, dtype: int64\n",
      "\n",
      "oldbalanceOrg value counts:\n",
      "oldbalanceOrg\n",
      "0.0           342214\n",
      "10100000.0       433\n",
      "10300000.0       424\n",
      "10200000.0       421\n",
      "10900000.0       387\n",
      "10400000.0       379\n",
      "10700000.0       378\n",
      "10600000.0       376\n",
      "10500000.0       375\n",
      "11000000.0       337\n",
      "Name: count, dtype: int64\n",
      "\n",
      "newbalanceOrig value counts:\n",
      "newbalanceOrig\n",
      "0.0           580275\n",
      "10300000.0       450\n",
      "10100000.0       449\n",
      "10200000.0       435\n",
      "10900000.0       405\n",
      "10700000.0       400\n",
      "10400000.0       399\n",
      "10600000.0       391\n",
      "10500000.0       388\n",
      "11000000.0       356\n",
      "Name: count, dtype: int64\n",
      "\n",
      "nameDest value counts:\n",
      "nameDest\n",
      "C985934102     98\n",
      "C1286084959    96\n",
      "C1590550415    89\n",
      "C248609774     88\n",
      "C665576141     87\n",
      "C2083562754    86\n",
      "C977993101     82\n",
      "C1360767589    81\n",
      "C451111351     80\n",
      "C306206744     79\n",
      "Name: count, dtype: int64\n",
      "\n",
      "oldbalanceDest value counts:\n",
      "oldbalanceDest\n",
      "0.0           437134\n",
      "10100000.0       314\n",
      "10300000.0       304\n",
      "10200000.0       295\n",
      "10900000.0       295\n",
      "10800000.0       291\n",
      "10500000.0       291\n",
      "10600000.0       284\n",
      "10700000.0       276\n",
      "10400000.0       265\n",
      "Name: count, dtype: int64\n",
      "\n",
      "newbalanceDest value counts:\n",
      "newbalanceDest\n",
      "0.0           406914\n",
      "10200000.0       361\n",
      "10900000.0       350\n",
      "10500000.0       348\n",
      "10100000.0       343\n",
      "10400000.0       327\n",
      "10300000.0       324\n",
      "10800000.0       310\n",
      "11000000.0       304\n",
      "10600000.0       292\n",
      "Name: count, dtype: int64\n",
      "\n",
      "isFraud value counts:\n",
      "isFraud\n",
      "0    1047433\n",
      "1       1142\n",
      "Name: count, dtype: int64\n",
      "\n"
     ]
    }
   ],
   "source": [
    "# Display data types\n",
    "data.dtypes\n",
    "\n",
    "# Display unique value counts for each column\n",
    "for col in data.columns:\n",
    "    print(f\"{col} value counts:\")\n",
    "    print(data[col].value_counts().head(10))\n",
    "    print()\n"
   ]
  },
  {
   "cell_type": "markdown",
   "id": "92eb8192-e3b9-405b-9568-ee26c20cdf4e",
   "metadata": {},
   "source": [
    "# Data Analysis and EDA"
   ]
  },
  {
   "cell_type": "code",
   "execution_count": 8,
   "id": "a549dffa-7b7e-4d6a-820f-7297332e3240",
   "metadata": {},
   "outputs": [],
   "source": [
    "import matplotlib.pyplot as plt\n",
    "import seaborn as sns\n"
   ]
  },
  {
   "cell_type": "code",
   "execution_count": 9,
   "id": "aece534f-bb56-4b78-aa59-1c8f59b2d06d",
   "metadata": {},
   "outputs": [
    {
     "name": "stderr",
     "output_type": "stream",
     "text": [
      "C:\\Users\\SAISHASHANK\\anaconda3\\Lib\\site-packages\\seaborn\\_oldcore.py:1119: FutureWarning: use_inf_as_na option is deprecated and will be removed in a future version. Convert inf values to NaN before operating instead.\n",
      "  with pd.option_context('mode.use_inf_as_na', True):\n"
     ]
    },
    {
     "data": {
      "image/png": "[encoded data removed]",
      "text/plain": [
       "<Figure size 1000x600 with 1 Axes>"
      ]
     },
     "metadata": {},
     "output_type": "display_data"
    }
   ],
   "source": [
    "# Plot distribution of transaction amounts\n",
    "plt.figure(figsize=(10, 6))\n",
    "sns.histplot(data['amount'], bins=100, kde=True)\n",
    "plt.title('Distribution of Transaction Amounts')\n",
    "plt.xlabel('Amount')\n",
    "plt.ylabel('Frequency')\n",
    "plt.show()\n"
   ]
  },
  {
   "cell_type": "code",
   "execution_count": 10,
   "id": "1371a119-5a6a-44bd-9559-79241f519757",
   "metadata": {
    "scrolled": true
   },
   "outputs": [
    {
     "data": {
      "image/png": "[encoded data removed]",
      "text/plain": [
       "<Figure size 1200x800 with 2 Axes>"
      ]
     },
     "metadata": {},
     "output_type": "display_data"
    }
   ],
   "source": [
    "# Exclude non-numeric columns for correlation matrix\n",
    "numeric_data = data.select_dtypes(include=['number'])\n",
    "\n",
    "# Calculate and plot correlation matrix\n",
    "plt.figure(figsize=(12, 8))\n",
    "correlation_matrix = numeric_data.corr()\n",
    "sns.heatmap(correlation_matrix, annot=True, cmap='coolwarm', fmt='.2f')\n",
    "plt.title('Correlation Matrix')\n",
    "plt.show()\n"
   ]
  },
  {
   "cell_type": "code",
   "execution_count": 11,
   "id": "e8ef3aa7-ff50-4ba8-8b07-42ee300f32c8",
   "metadata": {},
   "outputs": [
    {
     "data": {
      "image/png": "[encoded data removed]",
      "text/plain": [
       "<Figure size 1200x800 with 1 Axes>"
      ]
     },
     "metadata": {},
     "output_type": "display_data"
    }
   ],
   "source": [
    "# Plot transaction amounts by type\n",
    "plt.figure(figsize=(12, 8))\n",
    "sns.boxplot(x='type', y='amount', data=data)\n",
    "plt.title('Transaction Amounts by Type')\n",
    "plt.xlabel('Transaction Type')\n",
    "plt.ylabel('Amount')\n",
    "plt.show()\n"
   ]
  },
  {
   "cell_type": "code",
   "execution_count": 12,
   "id": "c02d1461-482b-4b84-af9e-ec2f5f3befbd",
   "metadata": {},
   "outputs": [
    {
     "data": {
      "image/png": "[encoded data removed]",
      "text/plain": [
       "<Figure size 1000x600 with 1 Axes>"
      ]
     },
     "metadata": {},
     "output_type": "display_data"
    }
   ],
   "source": [
    "# Analyze fraud transactions\n",
    "plt.figure(figsize=(10, 6))\n",
    "sns.countplot(x='isFraud', data=data)\n",
    "plt.title('Fraudulent vs Non-Fraudulent Transactions')\n",
    "plt.xlabel('Is Fraud')\n",
    "plt.ylabel('Count')\n",
    "plt.show()\n"
   ]
  },
  {
   "cell_type": "code",
   "execution_count": 13,
   "id": "760fa6cc-ecff-4bc4-8876-e393c5c2fbda",
   "metadata": {},
   "outputs": [
    {
     "data": {
      "image/png": "[encoded data removed]",
      "text/plain": [
       "<Figure size 1200x800 with 1 Axes>"
      ]
     },
     "metadata": {},
     "output_type": "display_data"
    }
   ],
   "source": [
    "# Amount by Transaction Type\n",
    "plt.figure(figsize=(12, 8))\n",
    "sns.boxplot(data=data, x='type', y='amount')\n",
    "plt.title('Transaction Amount by Type')\n",
    "plt.xlabel('Transaction Type')\n",
    "plt.ylabel('Transaction Amount')\n",
    "plt.yscale('log')\n",
    "plt.show()"
   ]
  },
  {
   "cell_type": "code",
   "execution_count": 14,
   "id": "6f4f2ed0-c4c6-400e-8a68-fac654a03b47",
   "metadata": {},
   "outputs": [
    {
     "data": {
      "text/plain": [
       "Index(['step', 'type', 'amount', 'nameOrig', 'oldbalanceOrg', 'newbalanceOrig',\n",
       "       'nameDest', 'oldbalanceDest', 'newbalanceDest', 'isFraud'],\n",
       "      dtype='object')"
      ]
     },
     "execution_count": 14,
     "metadata": {},
     "output_type": "execute_result"
    }
   ],
   "source": [
    "data.columns"
   ]
  },
  {
   "cell_type": "code",
   "execution_count": 15,
   "id": "d14f902b-fd8f-44fa-86a7-38c1d85302cd",
   "metadata": {},
   "outputs": [],
   "source": [
    "# creating new columns\n",
    "\n",
    "data['balanceChangeOrig'] = data['newbalanceOrig'] - data['oldbalanceOrg']\n",
    "data['balanceChangeDest'] = data['newbalanceDest'] - data['oldbalanceDest']\n",
    "data['amountToBalanceChangeRatioOrig'] = data['amount'] / (data['balanceChangeOrig'] + 1)\n",
    "data['amountToBalanceChangeRatioDest'] = data['amount'] / (data['balanceChangeDest'] + 1)\n"
   ]
  },
  {
   "cell_type": "code",
   "execution_count": 16,
   "id": "33f11243-5a65-4f18-9bf3-7a80538a3176",
   "metadata": {},
   "outputs": [
    {
     "data": {
      "text/plain": [
       "Index(['step', 'type', 'amount', 'nameOrig', 'oldbalanceOrg', 'newbalanceOrig',\n",
       "       'nameDest', 'oldbalanceDest', 'newbalanceDest', 'isFraud',\n",
       "       'balanceChangeOrig', 'balanceChangeDest',\n",
       "       'amountToBalanceChangeRatioOrig', 'amountToBalanceChangeRatioDest'],\n",
       "      dtype='object')"
      ]
     },
     "execution_count": 16,
     "metadata": {},
     "output_type": "execute_result"
    }
   ],
   "source": [
    "data.columns"
   ]
  },
  {
   "cell_type": "code",
   "execution_count": 17,
   "id": "aa4d0275-e8c9-4a43-9f06-1fab0b669eb0",
   "metadata": {},
   "outputs": [
    {
     "name": "stderr",
     "output_type": "stream",
     "text": [
      "C:\\Users\\SAISHASHANK\\anaconda3\\Lib\\site-packages\\seaborn\\_oldcore.py:1119: FutureWarning: use_inf_as_na option is deprecated and will be removed in a future version. Convert inf values to NaN before operating instead.\n",
      "  with pd.option_context('mode.use_inf_as_na', True):\n",
      "C:\\Users\\SAISHASHANK\\anaconda3\\Lib\\site-packages\\seaborn\\_oldcore.py:1119: FutureWarning: use_inf_as_na option is deprecated and will be removed in a future version. Convert inf values to NaN before operating instead.\n",
      "  with pd.option_context('mode.use_inf_as_na', True):\n"
     ]
    },
    {
     "data": {
      "image/png": "[encoded data removed]",
      "text/plain": [
       "<Figure size 1200x600 with 1 Axes>"
      ]
     },
     "metadata": {},
     "output_type": "display_data"
    }
   ],
   "source": [
    "# Analyze balance changes\n",
    "plt.figure(figsize=(12, 6))\n",
    "sns.histplot(data['balanceChangeOrig'], bins=100, kde=True, label='Original Balance Change')\n",
    "sns.histplot(data['balanceChangeDest'], bins=100, kde=True, color='red', label='Destination Balance Change')\n",
    "plt.legend()\n",
    "plt.title('Distribution of Balance Changes')\n",
    "plt.xlabel('Balance Change')\n",
    "plt.ylabel('Frequency')\n",
    "plt.show()\n"
   ]
  },
  {
   "cell_type": "markdown",
   "id": "418e46ed-6e37-46ee-951f-e9be1b3b2f93",
   "metadata": {},
   "source": [
    "# Data Balancing"
   ]
  },
  {
   "cell_type": "code",
   "execution_count": 18,
   "id": "c0dc0958-854c-406e-8801-3819ce0f4ea9",
   "metadata": {},
   "outputs": [
    {
     "data": {
      "text/plain": [
       "isFraud\n",
       "0    1047433\n",
       "1    1047433\n",
       "Name: count, dtype: int64"
      ]
     },
     "execution_count": 18,
     "metadata": {},
     "output_type": "execute_result"
    }
   ],
   "source": [
    "from sklearn.utils import resample\n",
    "# Separate majority and minority classes\n",
    "majority = data[data['isFraud'] == 0]\n",
    "minority = data[data['isFraud'] == 1]\n",
    "\n",
    "# Upsample minority class\n",
    "minority_upsampled = resample(minority, \n",
    "                              replace=True, \n",
    "                              n_samples=len(majority), \n",
    "                              random_state=42)\n",
    "\n",
    "# Combine majority and upsampled minority\n",
    "data = pd.concat([majority, minority_upsampled])\n",
    "\n",
    "# Check class distribution\n",
    "data['isFraud'].value_counts()\n"
   ]
  },
  {
   "cell_type": "code",
   "execution_count": 19,
   "id": "8a1ec271-c3ec-4b74-abb0-f7f810e5fe9e",
   "metadata": {},
   "outputs": [],
   "source": [
    "data = data.sample(frac=1).reset_index(drop=True)"
   ]
  },
  {
   "cell_type": "code",
   "execution_count": 20,
   "id": "3eba80b0-163c-4bef-84c9-9b0d39f852cf",
   "metadata": {},
   "outputs": [],
   "source": [
    "# Encoding categorical variables\n",
    "from sklearn.preprocessing import LabelEncoder\n",
    "\n",
    "label_encoder = LabelEncoder()\n",
    "data['type'] = label_encoder.fit_transform(data['type'])\n"
   ]
  },
  {
   "cell_type": "markdown",
   "id": "487b09e7-6615-4302-b8eb-52b077186bc6",
   "metadata": {},
   "source": [
    "# Model Building with Different Algorithms"
   ]
  },
  {
   "cell_type": "code",
   "execution_count": 21,
   "id": "d3f7c610-d6fd-47d1-9e93-74d5a1831ab4",
   "metadata": {},
   "outputs": [],
   "source": [
    "from sklearn.model_selection import train_test_split\n",
    "from sklearn.metrics import accuracy_score, confusion_matrix, classification_report\n",
    "from sklearn.tree import DecisionTreeClassifier\n",
    "from sklearn.ensemble import RandomForestClassifier, AdaBoostClassifier\n",
    "from sklearn.linear_model import LogisticRegression\n",
    "from sklearn.neighbors import KNeighborsClassifier\n",
    "from sklearn.svm import SVC\n",
    "import xgboost as xgb\n",
    "import lightgbm as lgbm\n",
    "import numpy as np"
   ]
  },
  {
   "cell_type": "code",
   "execution_count": 22,
   "id": "e147e1c4-2ac4-4f33-8498-1025b9d8be7e",
   "metadata": {},
   "outputs": [],
   "source": [
    "# Define features and target\n",
    "X = data.drop(['isFraud', 'nameOrig', 'nameDest'], axis=1)\n",
    "y = data['isFraud']\n",
    "# Replace infinity and extremely large values with NaN\n",
    "X.replace([np.inf, -np.inf], np.nan, inplace=True)\n",
    "\n",
    "# Optionally, handle NaN values (e.g., fill with mean or median)\n",
    "X.fillna(X.mean(), inplace=True)\n",
    "# Split the data\n",
    "X_train, X_test, y_train, y_test = train_test_split(X, y, test_size=0.2, random_state=42)\n"
   ]
  },
  {
   "cell_type": "code",
   "execution_count": 23,
   "id": "a6937c6d-ccdd-4e0c-a294-b3f621422a52",
   "metadata": {},
   "outputs": [
    {
     "name": "stdout",
     "output_type": "stream",
     "text": [
      "Decision Tree Classifier\n",
      "[[209272     12]\n",
      " [     0 209690]]\n",
      "              precision    recall  f1-score   support\n",
      "\n",
      "           0       1.00      1.00      1.00    209284\n",
      "           1       1.00      1.00      1.00    209690\n",
      "\n",
      "    accuracy                           1.00    418974\n",
      "   macro avg       1.00      1.00      1.00    418974\n",
      "weighted avg       1.00      1.00      1.00    418974\n",
      "\n"
     ]
    }
   ],
   "source": [
    "# Train and evaluate Decision Tree\n",
    "dtc = DecisionTreeClassifier(random_state=42)\n",
    "dtc.fit(X_train, y_train)\n",
    "dtc_pred = dtc.predict(X_test)\n",
    "\n",
    "print(\"Decision Tree Classifier\")\n",
    "print(confusion_matrix(y_test, dtc_pred))\n",
    "print(classification_report(y_test, dtc_pred))\n"
   ]
  },
  {
   "cell_type": "code",
   "execution_count": 24,
   "id": "b4c59a59-7de9-4108-b803-052c20a9f2fd",
   "metadata": {},
   "outputs": [
    {
     "name": "stdout",
     "output_type": "stream",
     "text": [
      "Random Forest Classifier\n",
      "[[209282      2]\n",
      " [     0 209690]]\n",
      "              precision    recall  f1-score   support\n",
      "\n",
      "           0       1.00      1.00      1.00    209284\n",
      "           1       1.00      1.00      1.00    209690\n",
      "\n",
      "    accuracy                           1.00    418974\n",
      "   macro avg       1.00      1.00      1.00    418974\n",
      "weighted avg       1.00      1.00      1.00    418974\n",
      "\n"
     ]
    }
   ],
   "source": [
    "# Train and evaluate Random Forest\n",
    "rf = RandomForestClassifier(random_state=42)\n",
    "rf.fit(X_train, y_train)\n",
    "rf_pred = rf.predict(X_test)\n",
    "\n",
    "print(\"Random Forest Classifier\")\n",
    "print(confusion_matrix(y_test, rf_pred))\n",
    "print(classification_report(y_test, rf_pred))\n"
   ]
  },
  {
   "cell_type": "code",
   "execution_count": 25,
   "id": "8b28e197-6f87-4be1-b9cd-751d814152be",
   "metadata": {},
   "outputs": [
    {
     "name": "stdout",
     "output_type": "stream",
     "text": [
      "Logistic Regression\n",
      "[[174017  35267]\n",
      " [  7069 202621]]\n",
      "              precision    recall  f1-score   support\n",
      "\n",
      "           0       0.96      0.83      0.89    209284\n",
      "           1       0.85      0.97      0.91    209690\n",
      "\n",
      "    accuracy                           0.90    418974\n",
      "   macro avg       0.91      0.90      0.90    418974\n",
      "weighted avg       0.91      0.90      0.90    418974\n",
      "\n"
     ]
    }
   ],
   "source": [
    "# Train and evaluate Logistic Regression\n",
    "lr = LogisticRegression(random_state=24, class_weight='balanced')\n",
    "lr.fit(X_train, y_train)\n",
    "lr_pred = lr.predict(X_test)\n",
    "\n",
    "print(\"Logistic Regression\")\n",
    "print(confusion_matrix(y_test, lr_pred))\n",
    "print(classification_report(y_test, lr_pred))\n"
   ]
  },
  {
   "cell_type": "code",
   "execution_count": null,
   "id": "c5eb099d-0718-4a94-b3ee-e0e5582f76c1",
   "metadata": {},
   "outputs": [],
   "source": [
    "# Train and evaluate Support Vector Classifier\n",
    "svc = SVC(random_state=52)\n",
    "svc.fit(X_train, y_train)\n",
    "svc_pred = svc.predict(X_test)\n",
    "\n",
    "print(\"Support Vector Classifier\")\n",
    "print(confusion_matrix(y_test, svc_pred))\n",
    "print(classification_report(y_test, svc_pred))\n"
   ]
  },
  {
   "cell_type": "code",
   "execution_count": null,
   "id": "adbf0c3c-2e07-4ae2-baf4-179f38d12e5e",
   "metadata": {},
   "outputs": [],
   "source": [
    "# Train and evaluate K-Nearest Neighbors\n",
    "knn = KNeighborsClassifier()\n",
    "knn.fit(X_train, y_train)\n",
    "knn_pred = knn.predict(X_test)\n",
    "\n",
    "print(\"K-Nearest Neighbors\")\n",
    "print(confusion_matrix(y_test, knn_pred))\n",
    "print(classification_report(y_test, knn_pred))\n"
   ]
  },
  {
   "cell_type": "code",
   "execution_count": null,
   "id": "caa64eeb-3184-4136-a49d-e2d4da7be1f1",
   "metadata": {},
   "outputs": [],
   "source": [
    "# Train and evaluate XGBoost\n",
    "model_xgb = xgb.XGBClassifier(random_state=42, verbosity=0)\n",
    "model_xgb.fit(X_train, y_train)\n",
    "xgb_pred = model_xgb.predict(X_test)\n",
    "\n",
    "print(\"XGBoost Classifier\")\n",
    "print(confusion_matrix(y_test, xgb_pred))\n",
    "print(classification_report(y_test, xgb_pred))\n"
   ]
  },
  {
   "cell_type": "code",
   "execution_count": null,
   "id": "1b7fa2ee-fa7f-4476-89c0-bddacf80d3dc",
   "metadata": {},
   "outputs": [],
   "source": [
    "# Train and evaluate LightGBM\n",
    "model_lgbm = lgbm.LGBMClassifier(random_state=42)\n",
    "model_lgbm.fit(X_train, y_train)\n",
    "lgbm_pred = model_lgbm.predict(X_test)\n",
    "\n",
    "print(\"LightGBM Classifier\")\n",
    "print(confusion_matrix(y_test, lgbm_pred))\n",
    "print(classification_report(y_test, lgbm_pred))\n"
   ]
  },
  {
   "cell_type": "code",
   "execution_count": null,
   "id": "67f8dfde-0cbb-4a9b-b564-a4428ca1d86a",
   "metadata": {},
   "outputs": [],
   "source": [
    "# Train and evaluate AdaBoost\n",
    "model_adaboost = AdaBoostClassifier(random_state=42)\n",
    "model_adaboost.fit(X_train, y_train)\n",
    "adaboost_pred = model_adaboost.predict(X_test)\n",
    "\n",
    "print(\"AdaBoost Classifier\")\n",
    "print(confusion_matrix(y_test, adaboost_pred))\n",
    "print(classification_report(y_test, adaboost_pred))\n"
   ]
  },
  {
   "cell_type": "markdown",
   "id": "a09d3bc0-2577-4fbe-8786-600b68b211a9",
   "metadata": {},
   "source": [
    "# Hyperparameter Tuning"
   ]
  },
  {
   "cell_type": "code",
   "execution_count": null,
   "id": "7aab6905-cb77-4309-b99b-002f2da13c17",
   "metadata": {},
   "outputs": [],
   "source": [
    "from sklearn.model_selection import GridSearchCV"
   ]
  },
  {
   "cell_type": "code",
   "execution_count": null,
   "id": "88e59be0-359e-41cb-8108-db4ba1b37b2c",
   "metadata": {},
   "outputs": [],
   "source": [
    "# Hyperparameter tuning for Decision Tree\n",
    "parameters = {\n",
    "    \"max_depth\": [3, 5, 7, 9, 11, 13],\n",
    "}\n",
    "\n",
    "model_dtc = DecisionTreeClassifier(random_state=42, class_weight='balanced')\n",
    "model_dtc_cv = GridSearchCV(model_dtc, parameters, cv=5)\n",
    "model_dtc_cv.fit(X_train, y_train)\n",
    "dtc_cv_pred = model_dtc_cv.predict(X_test)\n",
    "\n",
    "print(\"Tuned Decision Tree Classifier\")\n",
    "print(confusion_matrix(y_test, dtc_cv_pred))\n",
    "print(classification_report(y_test, dtc_cv_pred))\n",
    "print(f'Best parameters: {model_dtc_cv.best_params_}')\n"
   ]
  },
  {
   "cell_type": "code",
   "execution_count": null,
   "id": "47c439d6-6bb2-43cb-995b-ec7513dd0fb3",
   "metadata": {},
   "outputs": [],
   "source": [
    "# Hyperparameter tuning for Random Forest\n",
    "parameters = {\n",
    "    \"n_estimators\": [5, 10, 15, 20, 25],\n",
    "    \"max_depth\": [3, 5, 7, 9, 11, 13],\n",
    "}\n",
    "\n",
    "model_rf_cv = GridSearchCV(RandomForestClassifier(random_state=42, class_weight='balanced'), parameters, cv=5)\n",
    "model_rf_cv.fit(X_train, y_train)\n",
    "rf_cv_pred = model_rf_cv.predict(X_test)\n",
    "\n",
    "print(\"Tuned Random Forest Classifier\")\n",
    "print(confusion_matrix(y_test, rf_cv_pred))\n",
    "print(classification_report(y_test, rf_cv_pred))\n",
    "print(f'Best parameters: {model_rf_cv.best_params_}')\n"
   ]
  },
  {
   "cell_type": "code",
   "execution_count": null,
   "id": "6d6a0758-786e-4583-b372-2216ba7f6961",
   "metadata": {},
   "outputs": [],
   "source": [
    "# Hyperparameter tuning for Logistic Regression\n",
    "parameters = {\n",
    "    \"C\": [0.1, 1, 10, 100],\n",
    "    \"penalty\": ['l1', 'l2']\n",
    "}\n",
    "\n",
    "model_lr_cv = GridSearchCV(LogisticRegression(random_state=42, class_weight='balanced'), parameters, cv=5)\n",
    "model_lr_cv.fit(X_train, y_train)\n",
    "lr_cv_pred = model_lr_cv.predict(X_test)\n",
    "\n",
    "print(\"Tuned Logistic Regression\")\n",
    "print(confusion_matrix(y_test, lr_cv_pred))\n",
    "print(classification_report(y_test, lr_cv_pred))\n",
    "print(f'Best parameters: {model_lr_cv.best_params_}')\n"
   ]
  },
  {
   "cell_type": "code",
   "execution_count": null,
   "id": "c5debe1f-750b-4210-a0ff-7c580d2d411d",
   "metadata": {},
   "outputs": [],
   "source": [
    "# Hyperparameter tuning for K-Nearest Neighbors\n",
    "parameters = {\n",
    "    \"n_neighbors\": [3, 5, 7, 9],\n",
    "    \"weights\": ['uniform', 'distance']\n",
    "}\n",
    "\n",
    "model_knn_cv = GridSearchCV(KNeighborsClassifier(), parameters, cv=5)\n",
    "model_knn_cv.fit(X_train, y_train)\n",
    "knn_cv_pred = model_knn_cv.predict(X_test)\n",
    "\n",
    "print(\"Tuned K-Nearest Neighbors\")\n",
    "print(confusion_matrix(y_test, knn_cv_pred))\n",
    "print(classification_report(y_test, knn_cv_pred))\n",
    "print(f'Best parameters: {model_knn_cv.best_params_}')\n"
   ]
  },
  {
   "cell_type": "code",
   "execution_count": null,
   "id": "dcdfab57-11e5-4007-9821-6e891d6b55cf",
   "metadata": {},
   "outputs": [],
   "source": [
    "# Hyperparameter tuning for XGBoost\n",
    "parameters = {\n",
    "    \"n_estimators\": [50, 100, 150],\n",
    "    \"learning_rate\": [0.01, 0.1, 0.2],\n",
    "    \"max_depth\": [3, 5, 7]\n",
    "}\n",
    "\n",
    "model_xgb_cv = GridSearchCV(xgb.XGBClassifier(random_state=42), parameters, cv=5)\n",
    "model_xgb_cv.fit(X_train, y_train)\n",
    "xgb_cv_pred = model_xgb_cv.predict(X_test)\n",
    "\n",
    "print(\"Tuned XGBoost Classifier\")\n",
    "print(confusion_matrix(y_test, xgb_cv_pred))\n",
    "print(classification_report(y_test, xgb_cv_pred))\n",
    "print(f'Best parameters: {model_xgb_cv.best_params_}')\n"
   ]
  },
  {
   "cell_type": "code",
   "execution_count": null,
   "id": "2115dad9-5cf7-47a6-9977-5a0376b1356c",
   "metadata": {},
   "outputs": [],
   "source": [
    "# Hyperparameter tuning for LightGBM\n",
    "parameters = {\n",
    "    \"n_estimators\": [50, 100, 150],\n",
    "    \"learning_rate\": [0.01, 0.1, 0.2],\n",
    "    \"num_leaves\": [31, 63, 127]\n",
    "}\n",
    "\n",
    "model_lgbm_cv = GridSearchCV(lgbm.LGBMClassifier(random_state=42), parameters, cv=5)\n",
    "model_lgbm_cv.fit(X_train, y_train)\n",
    "lgbm_cv_pred = model_lgbm_cv.predict(X_test)\n",
    "\n",
    "print(\"Tuned LightGBM Classifier\")\n",
    "print(confusion_matrix(y_test, lgbm_cv_pred))\n",
    "print(classification_report(y_test, lgbm_cv_pred))\n",
    "print(f'Best parameters: {model_lgbm_cv.best_params_}')\n"
   ]
  },
  {
   "cell_type": "code",
   "execution_count": null,
   "id": "10c03d65-e70e-4bf5-966b-9de4969e2ef4",
   "metadata": {},
   "outputs": [],
   "source": [
    "# Hyperparameter tuning for AdaBoost\n",
    "parameters = {\n",
    "    \"n_estimators\": [50, 100, 150],\n",
    "    \"learning_rate\": [0.01, 0.1, 1.0]\n",
    "}\n",
    "\n",
    "model_adaboost_cv = GridSearchCV(AdaBoostClassifier(random_state=42), parameters, cv=5)\n",
    "model_adaboost_cv.fit(X_train, y_train)\n",
    "adaboost_cv_pred = model_adaboost_cv.predict(X_test)\n",
    "\n",
    "print(\"Tuned AdaBoost Classifier\")\n",
    "print(confusion_matrix(y_test, adaboost_cv_pred))\n",
    "print(classification_report(y_test, adaboost_cv_pred))\n",
    "print(f'Best parameters: {model_adaboost_cv.best_params_}')\n"
   ]
  },
  {
   "cell_type": "code",
   "execution_count": null,
   "id": "c3879cef-9625-4a48-a9a8-039d58038cf0",
   "metadata": {},
   "outputs": [],
   "source": [
    "import pickle\n"
   ]
  },
  {
   "cell_type": "code",
   "execution_count": null,
   "id": "85fe4205-8256-4297-999e-2bb8b93139f0",
   "metadata": {},
   "outputs": [],
   "source": [
    "# Define models\n",
    "models = {\n",
    "    \"Decision Tree\": model_dtc_cv.best_estimator_,\n",
    "    \"Random Forest\": model_rf_cv.best_estimator_,\n",
    "    \"Logistic Regression\": model_lr_cv.best_estimator_,\n",
    "    \"SVC\": svc,  # No hyperparameter tuning in this example\n",
    "    \"K-Nearest Neighbors\": model_knn_cv.best_estimator_,\n",
    "    \"XGBoost\": model_xgb_cv.best_estimator_,\n",
    "    \"LightGBM\": model_lgbm_cv.best_estimator_,\n",
    "    \"AdaBoost\": model_adaboost_cv.best_estimator_\n",
    "}\n",
    "\n",
    "# Evaluate models\n",
    "results = {}\n",
    "for name, model in models.items():\n",
    "    y_pred = model.predict(X_test)\n",
    "    accuracy = accuracy_score(y_test, y_pred)\n",
    "    results[name] = accuracy\n",
    "\n",
    "# Plot comparison of accuracies\n",
    "plt.figure(figsize=(12, 8))\n",
    "sns.barplot(x=list(results.keys()), y=list(results.values()))\n",
    "plt.title('Model Comparison: Accuracy')\n",
    "plt.xlabel('Model')\n",
    "plt.ylabel('Accuracy')\n",
    "plt.xticks(rotation=45)\n",
    "plt.ylim(0, 1)\n",
    "plt.show()\n"
   ]
  },
  {
   "cell_type": "code",
   "execution_count": null,
   "id": "1fc22e89-2d0a-4f89-9fda-83415ff3e07d",
   "metadata": {},
   "outputs": [],
   "source": [
    "# Find and save the best model\n",
    "best_model_name = max(results, key=results.get)\n",
    "best_model = models[best_model_name]\n",
    "\n",
    "with open('best_model.pkl', 'wb') as f:\n",
    "    pickle.dump(best_model, f)\n",
    "\n",
    "print(f\"Best model is {best_model_name} with accuracy: {results[best_model_name]:.4f}\")\n"
   ]
  },
  {
   "cell_type": "code",
   "execution_count": null,
   "id": "2897952f-4003-41f8-9f2c-4afa944eda30",
   "metadata": {},
   "outputs": [],
   "source": []
  },
  {
   "cell_type": "markdown",
   "id": "705c1d56",
   "metadata": {},
   "source": [
    "1. Data Cleaning Including Missing Values, Outliers, and Multi-Collinearity\n",
    "Missing Values:\n",
    "•\tThe dataset does not have any missing values as all columns show a count of 0 for missing entries. This means the data is complete for all columns.\n",
    "Outliers:\n",
    "•\tAmount: To detect outliers in the amount column, statistical methods like IQR (Interquartile Range) or Z-scores can be used. Visual methods like box plots can also be employed.\n",
    "•\tBalances: Similarly, outliers in oldbalanceOrg, newbalanceOrig, oldbalanceDest, and newbalanceDest can be detected using statistical methods or visualizations.\n",
    "Multi-Collinearity:\n",
    "•\tTo check for multi-collinearity, you can calculate the Variance Inflation Factor (VIF) for each feature. High VIF values (typically greater than 10) indicate high multi-collinearity. Feature selection techniques or dimensionality reduction methods can be used to address this.\n",
    "2. Describe Your Fraud Detection Model in Elaboration\n",
    "The fraud detection model can be based on various algorithms, such as logistic regression, decision trees, random forests, or more advanced models like gradient boosting or neural networks. Here's an example using logistic regression:\n",
    "•\tLogistic Regression: A statistical model that predicts the probability of a binary outcome (fraudulent or not). It is a good starting point due to its simplicity and interpretability.\n",
    "Steps:\n",
    "a.\tPreprocessing: Normalize/standardize numerical features and encode categorical features.\n",
    "b.\tModel Training: Train the model using the training dataset.\n",
    "c.\tValidation: Validate the model using cross-validation techniques to ensure robustness.\n",
    "d.\tEvaluation: Assess model performance using metrics like accuracy, precision, recall, F1 score, and ROC-AUC.\n",
    "e. How Did You Select Variables to Be Included in the Model?\n",
    "Variable Selection:\n",
    "•\tCorrelation Analysis: Check the correlation between features and the target variable (isFraud). Features with high correlation to the target are considered important.\n",
    "•\tFeature Importance: Use models like Random Forests or Gradient Boosting which provide feature importance scores.\n",
    "•\tDomain Knowledge: Use insights from financial fraud domains to select relevant features.\n",
    "•\tStatistical Tests: Perform statistical tests (e.g., Chi-square test) to identify the relevance of categorical variables.\n",
    "4. Demonstrate the Performance of the Model by Using Best Set of Tools\n",
    "Performance Metrics:\n",
    "•\tConfusion Matrix: Provides counts of true positives, false positives, true negatives, and false negatives.\n",
    "•\tAccuracy: Overall correctness of the model.\n",
    "•\tPrecision and Recall: Precision (true positives / (true positives + false positives)) and Recall (true positives / (true positives + false negatives)) are crucial in fraud detection.\n",
    "•\tF1 Score: Harmonic mean of precision and recall.\n",
    "•\tROC-AUC: Measures the model's ability to distinguish between classes.\n",
    "Tools:\n",
    "•\tScikit-learn: Provides tools to calculate these metrics.\n",
    "•\tMatplotlib/Seaborn: For visualizing performance metrics and ROC curves.\n",
    "5. What Are the Key Factors That Predict Fraudulent Customers?\n",
    "Key Factors:\n",
    "•\tTransaction Amount: High transaction amounts might indicate fraud.\n",
    "•\tBalance Changes: Significant changes in oldbalanceOrg, newbalanceOrig, oldbalanceDest, and newbalanceDest can be indicative of fraudulent activities.\n",
    "•\tTransaction Type: Certain transaction types may be more associated with fraud.\n",
    "6. Do These Factors Make Sense? If Yes, How? If Not, How Not?\n",
    "Yes, they make sense because:\n",
    "•\tTransaction Amount: Large transactions could be an attempt to quickly transfer stolen funds.\n",
    "•\tBalance Changes: Large or unusual balance changes can be signs of manipulation or fraud.\n",
    "•\tTransaction Type: Specific types of transactions (e.g., international transfers) might be more prone to fraud.\n",
    "7. What Kind of Prevention Should Be Adopted While Company Updates Its Infrastructure?\n",
    "Prevention Measures:\n",
    "•\tReal-Time Monitoring: Implement real-time transaction monitoring systems to detect and prevent fraudulent activities.\n",
    "•\tEnhanced Authentication: Use multi-factor authentication (MFA) and advanced verification methods.\n",
    "•\tData Encryption: Ensure that all sensitive data is encrypted during transmission and storage.\n",
    "•\tFraud Detection Algorithms: Continuously update and refine fraud detection models to adapt to new fraud tactics.\n",
    "8. Assuming These Actions Have Been Implemented, How Would You Determine If They Work?\n",
    "Evaluation Methods:\n",
    "•\tPerformance Monitoring: Track the performance of fraud detection systems over time to measure improvements.\n",
    "•\tIncident Analysis: Review the number and types of fraud incidents before and after implementation.\n",
    "•\tModel Metrics: Monitor key metrics such as precision, recall, and F1 score to ensure the model’s effectiveness.\n",
    "•\tFeedback Loop: Establish a feedback loop to continuously update the system based on new fraud patterns and insights.\n",
    "\n",
    "\n",
    "\n"
   ]
  },
  {
   "cell_type": "markdown",
   "id": "15913fb6",
   "metadata": {},
   "source": []
  }
 ],
 "metadata": {
  "kernelspec": {
   "display_name": "Python 3 (ipykernel)",
   "language": "python",
   "name": "python3"
  },
  "language_info": {
   "codemirror_mode": {
    "name": "ipython",
    "version": 3
   },
   "file_extension": ".py",
   "mimetype": "text/x-python",
   "name": "python",
   "nbconvert_exporter": "python",
   "pygments_lexer": "ipython3",
   "version": "3.11.7"
  }
 },
 "nbformat": 4,
 "nbformat_minor": 5
}
